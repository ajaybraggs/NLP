{
 "cells": [
  {
   "cell_type": "markdown",
   "id": "9994f493",
   "metadata": {},
   "source": [
    "### Generate n-gram representation for given corpus and perform following operations on the corpus:\n",
    "a. Preprocess the corpus for n-gram representation\n",
    "b. Display all tokens, distinct tokens and frequency of tokens in the corpus\n",
    "c. Bi-gram and frequency representation using user defined functions\n",
    "d. Tri-gram and frequency representation using user defined functions"
   ]
  },
  {
   "cell_type": "code",
   "execution_count": 11,
   "id": "4d544cf0",
   "metadata": {},
   "outputs": [],
   "source": [
    "import nltk"
   ]
  },
  {
   "cell_type": "code",
   "execution_count": 12,
   "id": "409db679",
   "metadata": {},
   "outputs": [
    {
     "name": "stdout",
     "output_type": "stream",
     "text": [
      "The Arabian knights.These are the fairy tales of the east.The stories of the Arabian knights are translated in many languages\n"
     ]
    }
   ],
   "source": [
    "with open('NGRAM.txt') as f:\n",
    "    corpus = f.readline()\n",
    "print(corpus)"
   ]
  },
  {
   "cell_type": "markdown",
   "id": "6c10f779",
   "metadata": {},
   "source": [
    "## 2.Preprocessing "
   ]
  },
  {
   "cell_type": "code",
   "execution_count": 13,
   "id": "0167877e",
   "metadata": {},
   "outputs": [
    {
     "name": "stdout",
     "output_type": "stream",
     "text": [
      "Preprocessed Data corpus= \n",
      " eos the arabian knights eos these are the fairy tales of the east eos the stories of the arabian knights are translated in many languages\n"
     ]
    }
   ],
   "source": [
    "corpus=corpus.lower()\n",
    "corpus=\"eos \"+ corpus\n",
    "corpus=corpus.replace(\".\",\" eos \")\n",
    "print(\"Preprocessed Data corpus= \\n\",corpus)"
   ]
  },
  {
   "cell_type": "markdown",
   "id": "465a2e36",
   "metadata": {},
   "source": [
    "## 3.Tokenization "
   ]
  },
  {
   "cell_type": "code",
   "execution_count": 14,
   "id": "b5634eb2",
   "metadata": {},
   "outputs": [
    {
     "name": "stdout",
     "output_type": "stream",
     "text": [
      "Total tokens in the corpus: ['eos', 'the', 'arabian', 'knights', 'eos', 'these', 'are', 'the', 'fairy', 'tales', 'of', 'the', 'east', 'eos', 'the', 'stories', 'of', 'the', 'arabian', 'knights', 'are', 'translated', 'in', 'many', 'languages']\n",
      "Distinct Tokens in the corpus: {'translated', 'knights', 'fairy', 'languages', 'arabian', 'in', 'of', 'these', 'the', 'east', 'stories', 'tales', 'many', 'eos', 'are'}\n"
     ]
    }
   ],
   "source": [
    "from nltk.tokenize import word_tokenize\n",
    "token = word_tokenize(corpus)\n",
    "print('Total tokens in the corpus:', token)\n",
    "print('Distinct Tokens in the corpus:', set(token))"
   ]
  },
  {
   "cell_type": "markdown",
   "id": "75ffe880",
   "metadata": {},
   "source": [
    "## Find out Frequencies"
   ]
  },
  {
   "cell_type": "code",
   "execution_count": 15,
   "id": "af07e5a8",
   "metadata": {},
   "outputs": [
    {
     "name": "stdout",
     "output_type": "stream",
     "text": [
      "Frequency of each tokens =  {'eos': 3, 'the': 5, 'arabian': 2, 'knights': 2, 'these': 1, 'are': 2, 'fairy': 1, 'tales': 1, 'of': 2, 'east': 1, 'stories': 1, 'translated': 1, 'in': 1, 'many': 1, 'languages': 1}\n"
     ]
    }
   ],
   "source": [
    "#token freq\n",
    "dct = {}\n",
    "for i in token:\n",
    "    dct[i] = 0 #make tokens as key\n",
    "for i in token:\n",
    "    dct[i] += 1 #if same key as tokens then increment the count\n",
    "print(\"Frequency of each tokens = \", dct)"
   ]
  },
  {
   "cell_type": "markdown",
   "id": "60001a85",
   "metadata": {},
   "source": [
    "## 4.Generate n-grams (bi-grams)/tri-grams and frequencies "
   ]
  },
  {
   "cell_type": "code",
   "execution_count": 16,
   "id": "65a51668",
   "metadata": {},
   "outputs": [],
   "source": [
    "def ngram(k):\n",
    "#ngram generation n=k   \n",
    "    l=[]\n",
    "    for i in range(len(token)):\n",
    "        l.append(token[i:i+k])\n",
    "    l=l[:-1]\n",
    "\n",
    "#ngram freq\n",
    "    dct={}\n",
    "    l=[\" \".join(i) for i in l]\n",
    "    for i in l:\n",
    "        dct[i]=0\n",
    "    for i in l:\n",
    "        dct[i]+=1\n",
    "    return dct"
   ]
  },
  {
   "cell_type": "code",
   "execution_count": 17,
   "id": "e84af7e3",
   "metadata": {},
   "outputs": [
    {
     "name": "stdout",
     "output_type": "stream",
     "text": [
      "{'eos the': 2, 'the arabian': 2, 'arabian knights': 2, 'knights eos': 1, 'eos these': 1, 'these are': 1, 'are the': 1, 'the fairy': 1, 'fairy tales': 1, 'tales of': 1, 'of the': 2, 'the east': 1, 'east eos': 1, 'the stories': 1, 'stories of': 1, 'knights are': 1, 'are translated': 1, 'translated in': 1, 'in many': 1, 'many languages': 1}\n"
     ]
    }
   ],
   "source": [
    "print(ngram(2))"
   ]
  },
  {
   "cell_type": "code",
   "execution_count": 18,
   "id": "2ef43371",
   "metadata": {},
   "outputs": [
    {
     "name": "stdout",
     "output_type": "stream",
     "text": [
      "{'eos the arabian': 1, 'the arabian knights': 2, 'arabian knights eos': 1, 'knights eos these': 1, 'eos these are': 1, 'these are the': 1, 'are the fairy': 1, 'the fairy tales': 1, 'fairy tales of': 1, 'tales of the': 1, 'of the east': 1, 'the east eos': 1, 'east eos the': 1, 'eos the stories': 1, 'the stories of': 1, 'stories of the': 1, 'of the arabian': 1, 'arabian knights are': 1, 'knights are translated': 1, 'are translated in': 1, 'translated in many': 1, 'in many languages': 1, 'many languages': 1}\n"
     ]
    }
   ],
   "source": [
    "print(ngram(3))"
   ]
  },
  {
   "cell_type": "code",
   "execution_count": null,
   "id": "f895d7cf",
   "metadata": {},
   "outputs": [],
   "source": []
  }
 ],
 "metadata": {
  "kernelspec": {
   "display_name": "Python 3 (ipykernel)",
   "language": "python",
   "name": "python3"
  },
  "language_info": {
   "codemirror_mode": {
    "name": "ipython",
    "version": 3
   },
   "file_extension": ".py",
   "mimetype": "text/x-python",
   "name": "python",
   "nbconvert_exporter": "python",
   "pygments_lexer": "ipython3",
   "version": "3.10.12"
  }
 },
 "nbformat": 4,
 "nbformat_minor": 5
}
