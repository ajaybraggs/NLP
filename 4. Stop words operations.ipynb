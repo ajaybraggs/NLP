{
 "cells": [
  {
   "cell_type": "markdown",
   "id": "aa02e24d",
   "metadata": {},
   "source": [
    "## Perform following stop word operations on email dataset using Spacy, Gensim and NLTK libraries \n"
   ]
  },
  {
   "cell_type": "markdown",
   "id": "1346f5d9",
   "metadata": {},
   "source": [
    "#### a. Display existing stop words in the default list\n",
    "#### b. Removing stop words from the default list\n",
    "#### c.adding stop words to the default list\n",
    "#### d. Apply stop word elimination to the email dataset\n"
   ]
  },
  {
   "cell_type": "code",
   "execution_count": 1,
   "id": "778c19e9",
   "metadata": {},
   "outputs": [
    {
     "name": "stdout",
     "output_type": "stream",
     "text": [
      "                                                text spam\n",
      "0  Subject: naturally it's your irresistible your...    1\n",
      "1  Subject: the stock trading gunslinger  fanny i...    1\n",
      "2  Subject: unbelievable new homes made easy  im ...    1\n",
      "3  Subject: 4 color printing special  request add...    1\n",
      "4  Subject: do not have money , get software cds ...    1\n",
      "5  Subject: great nnews  hello , welcome to medzo...    1\n",
      "6  Subject: here ' s a hot play in motion  homela...    1\n",
      "7  Subject: save your money buy getting this thin...    1\n",
      "8  Subject: undeliverable : home based business f...    1\n",
      "9  Subject: save your money buy getting this thin...    1\n",
      "<class 'pandas.core.frame.DataFrame'>\n",
      "RangeIndex: 5730 entries, 0 to 5729\n",
      "Data columns (total 2 columns):\n",
      " #   Column  Non-Null Count  Dtype \n",
      "---  ------  --------------  ----- \n",
      " 0   text    5730 non-null   object\n",
      " 1   spam    5728 non-null   object\n",
      "dtypes: object(2)\n",
      "memory usage: 89.7+ KB\n",
      "None\n"
     ]
    }
   ],
   "source": [
    "import pandas as pd \n",
    "data=pd.read_csv('stopwordemails.csv', usecols=['text','spam'])\n",
    "print(data.head(10))\n",
    "print(data.info())"
   ]
  },
  {
   "cell_type": "code",
   "execution_count": 2,
   "id": "d922536a",
   "metadata": {},
   "outputs": [],
   "source": [
    "import spacy\n",
    "nlp=spacy.load('en_core_web_sm')"
   ]
  },
  {
   "cell_type": "code",
   "execution_count": 3,
   "id": "7abdf409",
   "metadata": {},
   "outputs": [
    {
     "name": "stdout",
     "output_type": "stream",
     "text": [
      "{'very', 'does', 'thereby', 'forty', 'anywhere', 'due', 'n’t', 'them', 'being', 'used', 'always', 'wherever', 'i', 'rather', 'herself', \"'re\", 'where', '‘re', 'hers', 'whereby', 'show', 'make', 'the', 'her', 'with', 'between', 'across', 'nor', 'onto', 'back', 'who', 'go', 'for', 'out', 'thru', 'through', 'another', 'under', 'less', 'made', 'give', 'still', 'below', 'one', 'ca', 'serious', 'every', 'am', 'bottom', 'if', 'regarding', 'otherwise', 'toward', 'yourself', 'beside', 'whereas', 'anyone', 'because', 'first', 'do', \"n't\", 'whose', 'mine', 'once', 'into', 'more', 'any', 'also', 'hundred', 'over', 'full', 'there', 'unless', 'not', 'together', 'various', 'she', \"'ve\", 'himself', 'about', 'amount', 'then', 'either', 'their', 'at', 'thus', 'whom', 'whereafter', 'almost', '‘m', 'empty', 'though', 'what', 'own', 'hereby', 'several', 'least', 'whole', 'yet', 'meanwhile', 'never', 'whither', 'by', 'put', 'nothing', 'hence', 'therein', 'down', 'some', 'say', 'from', 'herein', 're', 'formerly', 'and', \"'d\", 'we', 'would', '‘ll', 'three', 'alone', 'now', 'however', 'somewhere', 'afterwards', 'while', 'my', '‘ve', 'during', 'nine', 'me', 'perhaps', 'although', 'you', 'done', 'something', 'see', 'last', 'part', 'hereafter', 'be', 'such', 'our', 'sometimes', 'without', 'an', 'even', 'n‘t', 'against', 'seeming', 'noone', 'neither', 'when', 'are', 'third', 'is', 'sometime', 'moreover', 'nowhere', 'next', 'take', 'top', 'has', 'a', 'around', 'he', '‘d', 'no', 'yourselves', 'yours', '’re', 'ten', 'throughout', 'had', 'these', 'up', 'move', 'along', 'seemed', 'indeed', 'too', 'enough', 'as', 'they', 'hereupon', 'on', 'seem', 'whence', 'latter', 'of', 'but', 'your', '‘s', 'everything', 'fifteen', 'besides', 'within', 'someone', 'just', 'name', 'anyway', 'in', 'five', 'should', 'else', 'quite', 'using', 'among', 'often', 'wherein', 'its', 'to', 'towards', 'nobody', 'please', 'twenty', 'everywhere', 'anything', 'same', 'others', 'off', 'us', '’d', 'somehow', 'thereafter', 'becomes', 'will', 'two', 'his', 'doing', 'none', 'call', 'really', 'thereupon', 'many', 'all', 'eleven', 'become', 'after', 'so', 'elsewhere', 'why', 'can', 'former', 'four', 'it', 'than', 'whether', 'further', 'beyond', 'most', 'seems', 'amongst', 'fifty', 'six', 'already', 'few', 'eight', 'becoming', 'front', 'keep', 'sixty', 'did', \"'ll\", 'anyhow', 'whereupon', 'until', 'via', 'those', 'well', 'was', 'ours', 'both', 'upon', 'get', 'or', 'only', 'been', 'itself', 'myself', 'behind', 'that', 'must', 'again', '’ll', 'whatever', 'nevertheless', 'each', 'side', \"'m\", 'namely', 'thence', 'everyone', 'therefore', 'before', 'other', 'beforehand', '’m', 'may', 'above', 'him', '’s', 'became', 'whenever', 'per', 'twelve', 'themselves', 'ever', 'latterly', 'might', 'could', 'much', 'which', 'cannot', '’ve', 'this', \"'s\", 'whoever', 'here', 'have', 'except', 'were', 'how', 'mostly', 'ourselves', 'since'}\n"
     ]
    }
   ],
   "source": [
    "all_stopwords = nlp.Defaults.stop_words\n",
    "print(all_stopwords)"
   ]
  },
  {
   "cell_type": "markdown",
   "id": "a77b4cce",
   "metadata": {},
   "source": [
    "### b. removing stopwords "
   ]
  },
  {
   "cell_type": "code",
   "execution_count": 4,
   "id": "6cce2b24",
   "metadata": {},
   "outputs": [
    {
     "name": "stdout",
     "output_type": "stream",
     "text": [
      "{'very', 'does', 'thereby', 'forty', 'anywhere', 'due', 'n’t', 'them', 'being', 'used', 'always', 'wherever', 'i', 'rather', 'herself', \"'re\", 'where', '‘re', 'hers', 'whereby', 'show', 'make', 'the', 'her', 'with', 'between', 'across', 'nor', 'onto', 'back', 'who', 'go', 'for', 'out', 'thru', 'through', 'another', 'under', 'less', 'made', 'give', 'still', 'below', 'one', 'ca', 'serious', 'every', 'am', 'bottom', 'if', 'regarding', 'otherwise', 'toward', 'yourself', 'beside', 'whereas', 'anyone', 'because', 'first', 'do', \"n't\", 'whose', 'mine', 'once', 'into', 'more', 'any', 'also', 'hundred', 'over', 'full', 'there', 'unless', 'not', 'together', 'various', 'she', \"'ve\", 'himself', 'about', 'amount', 'then', 'either', 'their', 'at', 'thus', 'whom', 'whereafter', 'almost', '‘m', 'empty', 'though', 'what', 'own', 'hereby', 'several', 'least', 'whole', 'yet', 'meanwhile', 'never', 'whither', 'by', 'put', 'nothing', 'hence', 'therein', 'down', 'some', 'say', 'from', 'herein', 're', 'formerly', 'and', \"'d\", 'we', 'would', '‘ll', 'three', 'alone', 'now', 'however', 'somewhere', 'afterwards', 'while', 'my', '‘ve', 'during', 'nine', 'me', 'perhaps', 'although', 'you', 'done', 'something', 'see', 'last', 'part', 'hereafter', 'be', 'such', 'our', 'sometimes', 'without', 'an', 'even', 'n‘t', 'against', 'seeming', 'noone', 'neither', 'when', 'are', 'third', 'is', 'sometime', 'moreover', 'nowhere', 'next', 'take', 'top', 'has', 'a', 'around', 'he', '‘d', 'no', 'yourselves', 'yours', '’re', 'ten', 'throughout', 'had', 'these', 'up', 'move', 'along', 'seemed', 'indeed', 'too', 'enough', 'as', 'they', 'hereupon', 'on', 'seem', 'whence', 'latter', 'of', 'but', 'your', '‘s', 'everything', 'fifteen', 'besides', 'within', 'someone', 'just', 'name', 'anyway', 'in', 'five', 'should', 'else', 'quite', 'using', 'among', 'often', 'wherein', 'its', 'to', 'towards', 'nobody', 'please', 'twenty', 'everywhere', 'anything', 'same', 'others', 'off', 'us', '’d', 'somehow', 'thereafter', 'becomes', 'two', 'his', 'doing', 'none', 'call', 'really', 'thereupon', 'many', 'all', 'eleven', 'become', 'after', 'so', 'elsewhere', 'why', 'can', 'former', 'four', 'it', 'than', 'whether', 'further', 'beyond', 'most', 'seems', 'amongst', 'fifty', 'six', 'already', 'few', 'eight', 'becoming', 'front', 'keep', 'sixty', 'did', \"'ll\", 'anyhow', 'whereupon', 'until', 'via', 'those', 'well', 'was', 'ours', 'both', 'upon', 'get', 'or', 'only', 'been', 'itself', 'myself', 'behind', 'that', 'must', 'again', '’ll', 'whatever', 'nevertheless', 'each', 'side', \"'m\", 'namely', 'thence', 'everyone', 'therefore', 'before', 'other', 'beforehand', '’m', 'may', 'above', 'him', '’s', 'became', 'whenever', 'per', 'twelve', 'themselves', 'ever', 'latterly', 'might', 'could', 'much', 'which', 'cannot', '’ve', 'this', \"'s\", 'whoever', 'here', 'have', 'except', 'were', 'how', 'mostly', 'ourselves', 'since'}\n"
     ]
    }
   ],
   "source": [
    "all_stopwords.remove('will')\n",
    "print(all_stopwords)"
   ]
  },
  {
   "cell_type": "markdown",
   "id": "424786ef",
   "metadata": {},
   "source": [
    "### c. add stopwords "
   ]
  },
  {
   "cell_type": "code",
   "execution_count": 5,
   "id": "195d5093",
   "metadata": {},
   "outputs": [
    {
     "name": "stdout",
     "output_type": "stream",
     "text": [
      "{'very', 'does', 'thereby', 'forty', 'anywhere', 'due', 'n’t', 'them', 'being', 'used', 'always', 'wherever', 'i', 'rather', 'herself', \"'re\", 'where', '‘re', 'hers', 'whereby', 'show', 'make', 'the', 'her', 'with', 'between', 'across', 'nor', 'onto', 'back', 'who', 'go', 'for', 'out', 'thru', 'through', 'another', 'under', 'less', 'made', 'give', 'still', 'below', 'one', 'ca', 'serious', 'every', 'am', 'bottom', 'if', 'regarding', 'otherwise', 'toward', 'yourself', 'beside', 'whereas', 'anyone', 'because', 'first', 'do', \"n't\", 'whose', 'mine', 'once', 'into', 'more', 'any', 'also', 'hundred', 'over', 'full', 'there', 'unless', 'not', 'together', 'various', 'she', \"'ve\", 'himself', 'about', 'amount', 'then', 'either', 'their', 'at', 'thus', 'whom', 'whereafter', 'almost', '‘m', 'empty', 'though', 'what', 'own', 'hereby', 'several', 'least', 'whole', 'yet', 'meanwhile', 'never', 'whither', 'by', 'put', 'nothing', 'hence', 'therein', 'down', 'some', 'say', 'from', 'herein', 're', 'formerly', 'and', \"'d\", 'we', 'would', '‘ll', 'three', 'alone', 'now', 'however', 'somewhere', 'afterwards', 'while', 'my', '‘ve', 'during', 'nine', 'me', 'perhaps', 'although', 'you', 'done', 'something', 'see', 'last', 'part', 'hereafter', 'be', 'such', 'our', 'sometimes', 'without', 'an', 'even', 'n‘t', 'against', 'seeming', 'noone', 'neither', 'when', 'are', 'third', 'is', 'sometime', 'moreover', 'nowhere', 'next', 'take', 'top', 'has', 'a', 'around', 'he', '‘d', 'no', 'yourselves', 'yours', '’re', 'ten', 'throughout', 'had', 'these', 'naturally', 'up', 'move', 'along', 'seemed', 'indeed', 'too', 'enough', 'as', 'they', 'hereupon', 'on', 'seem', 'whence', 'latter', 'of', 'but', 'your', '‘s', 'everything', 'fifteen', 'besides', 'within', 'someone', 'just', 'name', 'anyway', 'in', 'five', 'should', 'else', 'quite', 'using', 'among', 'often', 'wherein', 'its', 'to', 'towards', 'nobody', 'please', 'twenty', 'everywhere', 'anything', 'same', 'others', 'off', 'us', '’d', 'somehow', 'thereafter', 'becomes', 'two', 'his', 'doing', 'none', 'call', 'really', 'thereupon', 'many', 'all', 'eleven', 'become', 'after', 'so', 'elsewhere', 'why', 'can', 'former', 'four', 'it', 'than', 'whether', 'further', 'beyond', 'most', 'seems', 'amongst', 'fifty', 'six', 'already', 'few', 'eight', 'becoming', 'front', 'keep', 'sixty', 'did', \"'ll\", 'anyhow', 'whereupon', 'until', 'via', 'those', 'well', 'was', 'ours', 'both', 'upon', 'get', 'or', 'only', 'been', 'itself', 'myself', 'behind', 'that', 'must', 'again', '’ll', 'whatever', 'nevertheless', 'each', 'side', \"'m\", 'namely', 'thence', 'everyone', 'therefore', 'before', 'other', 'beforehand', '’m', 'may', 'company', 'above', 'him', '’s', 'became', 'whenever', 'per', 'twelve', 'themselves', 'ever', 'latterly', 'might', 'could', 'much', 'which', 'cannot', '’ve', 'this', \"'s\", 'whoever', 'here', 'have', 'except', 'were', 'how', 'mostly', 'ourselves', 'since'}\n"
     ]
    }
   ],
   "source": [
    "nlp.Defaults.stop_words.add('naturally')\n",
    "nlp.Defaults.stop_words.add('company')\n",
    "print(all_stopwords)"
   ]
  },
  {
   "cell_type": "markdown",
   "id": "f696c135",
   "metadata": {},
   "source": [
    "### d. stopword elimination "
   ]
  },
  {
   "cell_type": "code",
   "execution_count": 6,
   "id": "9f873067",
   "metadata": {},
   "outputs": [
    {
     "data": {
      "text/plain": [
       "\"Subject: naturally it's your irresistible your corporate identity  lt is really hard to recollect a company : the  market is full of suqgestions and the information isoverwhelminq ; but a good  catchy logo , stylish statlonery and outstanding website  will make the task much easier .  we don't promise that havinq ordered a iogo your  company will automaticaily become a world ieader : it isguite ciear that  without good products , effective business organization and practicable aim it  will be hotat nowadays market ; but we do promise that your marketing efforts  will become much more effective . here is the list of clear  benefits : creativeness : hand - made , original logos , specially done  to reflect your distinctive company image . convenience : logo and stationery  are provided in all formats ; easy - to - use content management system letsyou  change your website content and even its structure . promptness : you'll see logo drafts within three business days . affordability : your  marketing break - through shouldn't make gaps in your budget . 100 % satisfaction  guaranteed : we provide unlimited amount of changes with no extra fees for you to  be surethat you will love the result of this collaboration . have a look at our  portfolio _ _ _ _ _ _ _ _ _ _ _ _ _ _ _ _ _ _ _ _ _ _ _ _ _ _ _ _ _ _ _ _ _ _ _ _ _ _ _ _ _ _ _ _ _ _ _ _ _ _ _ _ not interested . . . _ _ _ _ _ _ _ _ _ _ _ _ _ _ _ _ _ _ _ _ _ _ _ _ _ _ _ _ _ _ _ _ _ _ _ _ _ _ _ _ _ _ _ _ _ _ _ _ _ _ _ _\""
      ]
     },
     "execution_count": 6,
     "metadata": {},
     "output_type": "execute_result"
    }
   ],
   "source": [
    "Text=data['text'][0]\n",
    "Text"
   ]
  },
  {
   "cell_type": "code",
   "execution_count": 7,
   "id": "76599318",
   "metadata": {},
   "outputs": [
    {
     "name": "stdout",
     "output_type": "stream",
     "text": [
      "Subject: naturally it's your irresistible your corporate identity  lt is really hard to recollect a company : the  market is full of suqgestions and the information isoverwhelminq ; but a good  catchy logo , stylish statlonery and outstanding website  will make the task much easier .  we don't promise that havinq ordered a iogo your  company will automaticaily become a world ieader : it isguite ciear that  without good products , effective business organization and practicable aim it  will be hotat nowadays market ; but we do promise that your marketing efforts  will become much more effective . here is the list of clear  benefits : creativeness : hand - made , original logos , specially done  to reflect your distinctive company image . convenience : logo and stationery  are provided in all formats ; easy - to - use content management system letsyou  change your website content and even its structure . promptness : you'll see logo drafts within three business days . affordability : your  marketing break - through shouldn't make gaps in your budget . 100 % satisfaction  guaranteed : we provide unlimited amount of changes with no extra fees for you to  be surethat you will love the result of this collaboration . have a look at our  portfolio _ _ _ _ _ _ _ _ _ _ _ _ _ _ _ _ _ _ _ _ _ _ _ _ _ _ _ _ _ _ _ _ _ _ _ _ _ _ _ _ _ _ _ _ _ _ _ _ _ _ _ _ not interested . . . _ _ _ _ _ _ _ _ _ _ _ _ _ _ _ _ _ _ _ _ _ _ _ _ _ _ _ _ _ _ _ _ _ _ _ _ _ _ _ _ _ _ _ _ _ _ _ _ _ _ _ _\n"
     ]
    }
   ],
   "source": [
    "doc=nlp(Text)\n",
    "text = [i.text for i in doc if i.text not in all_stopwords]\n",
    "print(Text)"
   ]
  },
  {
   "cell_type": "markdown",
   "id": "19ca8efe",
   "metadata": {},
   "source": [
    "## Stopword using gensim "
   ]
  },
  {
   "cell_type": "code",
   "execution_count": 8,
   "id": "1e1132e1",
   "metadata": {},
   "outputs": [
    {
     "name": "stdout",
     "output_type": "stream",
     "text": [
      "Defaulting to user installation because normal site-packages is not writeable\n",
      "Requirement already satisfied: gensim in /home/student/.local/lib/python3.10/site-packages (4.3.2)\n",
      "Requirement already satisfied: numpy>=1.18.5 in /home/student/.local/lib/python3.10/site-packages (from gensim) (1.26.3)\n",
      "Requirement already satisfied: scipy>=1.7.0 in /usr/lib/python3/dist-packages (from gensim) (1.8.0)\n",
      "Requirement already satisfied: smart-open>=1.8.1 in /home/student/.local/lib/python3.10/site-packages (from gensim) (6.4.0)\n"
     ]
    }
   ],
   "source": [
    "!pip install gensim"
   ]
  },
  {
   "cell_type": "code",
   "execution_count": 9,
   "id": "91c849c1",
   "metadata": {},
   "outputs": [
    {
     "name": "stderr",
     "output_type": "stream",
     "text": [
      "/usr/lib/python3/dist-packages/scipy/__init__.py:146: UserWarning: A NumPy version >=1.17.3 and <1.25.0 is required for this version of SciPy (detected version 1.26.3\n",
      "  warnings.warn(f\"A NumPy version >={np_minversion} and <{np_maxversion}\"\n"
     ]
    }
   ],
   "source": [
    "import gensim"
   ]
  },
  {
   "cell_type": "code",
   "execution_count": 10,
   "id": "979ed13b",
   "metadata": {},
   "outputs": [],
   "source": [
    "all_stopwords=gensim.parsing.preprocessing.STOPWORDS"
   ]
  },
  {
   "cell_type": "code",
   "execution_count": 11,
   "id": "f5cfae4e",
   "metadata": {},
   "outputs": [
    {
     "name": "stdout",
     "output_type": "stream",
     "text": [
      "frozenset({'very', 'does', 'thereby', 'forty', 'anywhere', 'due', 'fire', 'them', 'being', 'used', 'always', 'interest', 'fill', 'wherever', 'i', 'rather', 'herself', 'thin', 'where', 'hers', 'whereby', 'show', 'make', 'the', 'her', 'with', 'between', 'across', 'nor', 'onto', 'back', 'who', 'go', 'couldnt', 'hasnt', 'out', 'for', 'thru', 'doesn', 'through', 'under', 'another', 'less', 'made', 'give', 'still', 'below', 'one', 'serious', 'every', 'am', 'if', 'bottom', 'regarding', 'otherwise', 'toward', 'yourself', 'beside', 'whereas', 'because', 'anyone', 'first', 'do', 'km', 'whose', 'mine', 'once', 'into', 'more', 'any', 'also', 'hundred', 'over', 'full', 'there', 'unless', 'not', 'together', 'various', 'she', 'himself', 'about', 'amount', 'then', 'either', 'their', 'at', 'thus', 'whom', 'whereafter', 'almost', 'empty', 'though', 'detail', 'what', 'own', 'hereby', 'several', 'least', 'whole', 'meanwhile', 'yet', 'never', 'whither', 'by', 'put', 'nothing', 'hence', 'therein', 'down', 'some', 'say', 'from', 'herein', 're', 'formerly', 'and', 'we', 'would', 'three', 'alone', 'somewhere', 'now', 'however', 'afterwards', 'while', 'sincere', 'kg', 'my', 'during', 'nine', 'me', 'perhaps', 'although', 'you', 'done', 'something', 'see', 'found', 'last', 'part', 'hereafter', 'be', 'de', 'such', 'our', 'find', 'sometimes', 'without', 'even', 'an', 'thick', 'against', 'seeming', 'noone', 'neither', 'cant', 'when', 'are', 'third', 'is', 'sometime', 'moreover', 'nowhere', 'etc', 'next', 'take', 'top', 'has', 'a', 'ie', 'system', 'around', 'he', 'no', 'yourselves', 'yours', 'mill', 'computer', 'ten', 'throughout', 'had', 'these', 'up', 'move', 'along', 'seemed', 'don', 'indeed', 'too', 'enough', 'as', 'they', 'hereupon', 'on', 'seem', 'whence', 'inc', 'latter', 'of', 'but', 'your', 'eg', 'everything', 'fifteen', 'besides', 'within', 'someone', 'describe', 'just', 'name', 'anyway', 'ltd', 'in', 'should', 'five', 'else', 'quite', 'using', 'among', 'often', 'wherein', 'its', 'to', 'towards', 'bill', 'nobody', 'please', 'twenty', 'everywhere', 'anything', 'same', 'others', 'us', 'off', 'somehow', 'thereafter', 'becomes', 'will', 'two', 'his', 'doing', 'none', 'call', 'really', 'thereupon', 'many', 'all', 'eleven', 'become', 'after', 'so', 'elsewhere', 'why', 'can', 'four', 'former', 'it', 'than', 'whether', 'amoungst', 'further', 'beyond', 'most', 'seems', 'amongst', 'un', 'fifty', 'six', 'already', 'few', 'co', 'eight', 'becoming', 'front', 'keep', 'sixty', 'did', 'whereupon', 'anyhow', 'until', 'via', 'those', 'well', 'was', 'ours', 'both', 'upon', 'get', 'or', 'only', 'been', 'itself', 'myself', 'behind', 'that', 'must', 'again', 'whatever', 'nevertheless', 'each', 'side', 'namely', 'thence', 'everyone', 'therefore', 'before', 'other', 'beforehand', 'may', 'cry', 'above', 'him', 'became', 'whenever', 'per', 'twelve', 'didn', 'themselves', 'ever', 'latterly', 'might', 'could', 'much', 'which', 'cannot', 'con', 'this', 'whoever', 'here', 'have', 'were', 'except', 'how', 'mostly', 'ourselves', 'since'})\n"
     ]
    }
   ],
   "source": [
    "print(all_stopwords)"
   ]
  },
  {
   "cell_type": "markdown",
   "id": "80fde7a3",
   "metadata": {},
   "source": [
    "### adding stopwords using gensim "
   ]
  },
  {
   "cell_type": "code",
   "execution_count": 12,
   "id": "795cd097",
   "metadata": {},
   "outputs": [],
   "source": [
    "from gensim.parsing.preprocessing import STOPWORDS"
   ]
  },
  {
   "cell_type": "code",
   "execution_count": 13,
   "id": "e72ff4d1",
   "metadata": {},
   "outputs": [
    {
     "name": "stdout",
     "output_type": "stream",
     "text": [
      "frozenset({'very', 'does', 'ie', 'system', 'around', 'thereby', 'he', 'forty', 'no', 'anywhere', 'yourselves', 'yours', 'mill', 'computer', 'ten', 'due', 'throughout', 'fire', 'them', 'being', 'used', 'had', 'these', 'naturally', 'always', 'up', 'move', 'along', 'interest', 'fill', 'wherever', 'seemed', 'i', 'don', 'rather', 'indeed', 'too', 'enough', 'as', 'they', 'hereupon', 'herself', 'thin', 'on', 'where', 'seem', 'whence', 'hers', 'inc', 'whereby', 'show', 'make', 'latter', 'of', 'the', 'her', 'with', 'but', 'your', 'between', 'across', 'nor', 'onto', 'eg', 'back', 'everything', 'who', 'go', 'couldnt', 'fifteen', 'hasnt', 'besides', 'out', 'for', 'thru', 'doesn', 'within', 'through', 'someone', 'under', 'another', 'describe', 'just', 'name', 'anyway', 'less', 'ltd', 'in', 'made', 'should', 'five', 'else', 'give', 'quite', 'still', 'below', 'one', 'serious', 'every', 'am', 'if', 'bottom', 'regarding', 'otherwise', 'toward', 'using', 'among', 'yourself', 'beside', 'often', 'wherein', 'whereas', 'because', 'anyone', 'its', 'first', 'to', 'do', 'km', 'towards', 'whose', 'bill', 'mine', 'once', 'nobody', 'into', 'more', 'please', 'any', 'also', 'twenty', 'everywhere', 'hundred', 'anything', 'over', 'same', 'others', 'full', 'there', 'unless', 'us', 'off', 'not', 'together', 'somehow', 'various', 'she', 'thereafter', 'himself', 'about', 'becomes', 'will', 'two', 'his', 'amount', 'doing', 'none', 'call', 'then', 'either', 'really', 'their', 'at', 'thus', 'thereupon', 'many', 'whom', 'whereafter', 'all', 'almost', 'eleven', 'empty', 'become', 'though', 'after', 'so', 'detail', 'what', 'own', 'elsewhere', 'why', 'hereby', 'several', 'can', 'four', 'former', 'least', 'it', 'than', 'whether', 'amoungst', 'whole', 'meanwhile', 'yet', 'never', 'whither', 'further', 'by', 'put', 'beyond', 'most', 'nothing', 'hence', 'seems', 'therein', 'amongst', 'un', 'fifty', 'six', 'already', 'down', 'few', 'some', 'say', 'co', 'from', 'herein', 'eight', 'becoming', 're', 'formerly', 'and', 'we', 'would', 'front', 'keep', 'sixty', 'did', 'three', 'whereupon', 'anyhow', 'until', 'alone', 'somewhere', 'now', 'however', 'afterwards', 'via', 'while', 'those', 'sincere', 'well', 'was', 'kg', 'my', 'ours', 'during', 'nine', 'both', 'upon', 'get', 'or', 'only', 'me', 'been', 'itself', 'myself', 'behind', 'perhaps', 'although', 'that', 'you', 'must', 'done', 'again', 'something', 'whatever', 'see', 'found', 'last', 'nevertheless', 'each', 'part', 'side', 'hereafter', 'be', 'namely', 'thence', 'everyone', 'therefore', 'before', 'other', 'de', 'such', 'our', 'find', 'sometimes', 'beforehand', 'without', 'even', 'an', 'thick', 'against', 'may', 'cry', 'seeming', 'company', 'ourselves', 'noone', 'above', 'him', 'neither', 'cant', 'became', 'whenever', 'per', 'twelve', 'when', 'didn', 'themselves', 'are', 'ever', 'third', 'latterly', 'is', 'sometime', 'might', 'could', 'moreover', 'much', 'which', 'cannot', 'nowhere', 'con', 'this', 'etc', 'whoever', 'next', 'take', 'here', 'top', 'have', 'since', 'were', 'except', 'how', 'has', 'mostly', 'a'})\n"
     ]
    }
   ],
   "source": [
    "all_stopwords_gensim=STOPWORDS.union(set(['naturally','company']))\n",
    "print(all_stopwords_gensim)"
   ]
  },
  {
   "cell_type": "markdown",
   "id": "ebf67db4",
   "metadata": {},
   "source": [
    "### removing stopwords"
   ]
  },
  {
   "cell_type": "code",
   "execution_count": 14,
   "id": "246b12e7",
   "metadata": {},
   "outputs": [
    {
     "name": "stdout",
     "output_type": "stream",
     "text": [
      "frozenset({'very', 'does', 'thereby', 'forty', 'anywhere', 'due', 'fire', 'them', 'being', 'used', 'always', 'interest', 'fill', 'wherever', 'i', 'rather', 'herself', 'thin', 'where', 'hers', 'whereby', 'show', 'make', 'the', 'her', 'with', 'between', 'across', 'nor', 'onto', 'back', 'who', 'go', 'couldnt', 'hasnt', 'out', 'for', 'thru', 'doesn', 'through', 'under', 'another', 'less', 'made', 'give', 'still', 'below', 'one', 'serious', 'every', 'am', 'if', 'bottom', 'regarding', 'otherwise', 'toward', 'yourself', 'beside', 'whereas', 'because', 'anyone', 'first', 'do', 'km', 'whose', 'mine', 'once', 'into', 'more', 'any', 'also', 'hundred', 'over', 'full', 'there', 'unless', 'not', 'together', 'various', 'she', 'himself', 'about', 'amount', 'then', 'either', 'their', 'at', 'thus', 'whom', 'whereafter', 'almost', 'empty', 'though', 'detail', 'what', 'own', 'hereby', 'several', 'least', 'whole', 'meanwhile', 'yet', 'never', 'whither', 'by', 'put', 'nothing', 'hence', 'therein', 'down', 'some', 'say', 'from', 'herein', 're', 'formerly', 'and', 'we', 'would', 'three', 'alone', 'somewhere', 'now', 'however', 'afterwards', 'while', 'sincere', 'kg', 'my', 'during', 'nine', 'me', 'perhaps', 'although', 'you', 'done', 'something', 'see', 'found', 'last', 'part', 'hereafter', 'be', 'de', 'such', 'our', 'find', 'sometimes', 'without', 'even', 'an', 'thick', 'against', 'seeming', 'noone', 'neither', 'cant', 'when', 'are', 'third', 'is', 'sometime', 'moreover', 'nowhere', 'etc', 'next', 'take', 'top', 'has', 'a', 'ie', 'system', 'around', 'he', 'no', 'yourselves', 'yours', 'mill', 'computer', 'ten', 'throughout', 'had', 'these', 'up', 'move', 'along', 'seemed', 'don', 'indeed', 'too', 'enough', 'as', 'they', 'hereupon', 'on', 'seem', 'whence', 'inc', 'latter', 'of', 'but', 'your', 'eg', 'everything', 'fifteen', 'besides', 'within', 'someone', 'describe', 'just', 'name', 'anyway', 'ltd', 'in', 'should', 'five', 'else', 'quite', 'using', 'among', 'often', 'wherein', 'its', 'to', 'towards', 'bill', 'nobody', 'please', 'twenty', 'everywhere', 'anything', 'same', 'others', 'us', 'off', 'somehow', 'thereafter', 'becomes', 'will', 'two', 'his', 'doing', 'none', 'call', 'really', 'thereupon', 'many', 'all', 'eleven', 'become', 'after', 'so', 'elsewhere', 'why', 'can', 'four', 'former', 'it', 'than', 'whether', 'amoungst', 'further', 'beyond', 'most', 'seems', 'amongst', 'un', 'fifty', 'six', 'already', 'few', 'co', 'eight', 'becoming', 'front', 'keep', 'sixty', 'did', 'whereupon', 'anyhow', 'until', 'via', 'those', 'well', 'was', 'ours', 'both', 'upon', 'get', 'or', 'only', 'been', 'itself', 'myself', 'behind', 'that', 'must', 'again', 'whatever', 'nevertheless', 'each', 'side', 'namely', 'thence', 'everyone', 'therefore', 'before', 'other', 'beforehand', 'may', 'cry', 'above', 'him', 'became', 'whenever', 'per', 'twelve', 'didn', 'themselves', 'ever', 'latterly', 'might', 'could', 'much', 'which', 'cannot', 'con', 'this', 'whoever', 'here', 'have', 'were', 'except', 'how', 'mostly', 'ourselves', 'since'})\n"
     ]
    }
   ],
   "source": [
    "all_stopwords_gensim=STOPWORDS\n",
    "print(all_stopwords_gensim)"
   ]
  },
  {
   "cell_type": "code",
   "execution_count": 15,
   "id": "2ebe39b5",
   "metadata": {},
   "outputs": [],
   "source": [
    "all_stopwords_gensim=STOPWORDS.difference('really')"
   ]
  },
  {
   "cell_type": "markdown",
   "id": "61b9bd3b",
   "metadata": {},
   "source": [
    "### apply to the email dataset "
   ]
  },
  {
   "cell_type": "code",
   "execution_count": 16,
   "id": "01520e77",
   "metadata": {},
   "outputs": [],
   "source": [
    "from gensim.utils import tokenize"
   ]
  },
  {
   "cell_type": "code",
   "execution_count": 17,
   "id": "db6ef8c1",
   "metadata": {},
   "outputs": [
    {
     "name": "stdout",
     "output_type": "stream",
     "text": [
      "['Subject', 'naturally', 's', 'irresistible', 'corporate', 'identity', 'lt', 'hard', 'recollect', 'a', 'company', 'market', 'suqgestions', 'information', 'isoverwhelminq', 'a', 'good', 'catchy', 'logo', 'stylish', 'statlonery', 'outstanding', 'website', 'task', 'easier', 't', 'promise', 'havinq', 'ordered', 'a', 'iogo', 'company', 'automaticaily', 'a', 'world', 'ieader', 'isguite', 'ciear', 'good', 'products', 'effective', 'business', 'organization', 'practicable', 'aim', 'hotat', 'nowadays', 'market', 'promise', 'marketing', 'efforts', 'effective', 'list', 'clear', 'benefits', 'creativeness', 'hand', 'original', 'logos', 'specially', 'reflect', 'distinctive', 'company', 'image', 'convenience', 'logo', 'stationery', 'provided', 'formats', 'easy', 'use', 'content', 'management', 'letsyou', 'change', 'website', 'content', 'structure', 'promptness', 'll', 'logo', 'drafts', 'business', 'days', 'affordability', 'marketing', 'break', 'shouldn', 't', 'gaps', 'budget', 'satisfaction', 'guaranteed', 'provide', 'unlimited', 'changes', 'extra', 'fees', 'surethat', 'love', 'result', 'collaboration', 'a', 'look', 'portfolio', '_', '_', '_', '_', '_', '_', '_', '_', '_', '_', '_', '_', '_', '_', '_', '_', '_', '_', '_', '_', '_', '_', '_', '_', '_', '_', '_', '_', '_', '_', '_', '_', '_', '_', '_', '_', '_', '_', '_', '_', '_', '_', '_', '_', '_', '_', '_', '_', '_', '_', '_', '_', 'interested', '_', '_', '_', '_', '_', '_', '_', '_', '_', '_', '_', '_', '_', '_', '_', '_', '_', '_', '_', '_', '_', '_', '_', '_', '_', '_', '_', '_', '_', '_', '_', '_', '_', '_', '_', '_', '_', '_', '_', '_', '_', '_', '_', '_', '_', '_', '_', '_', '_', '_', '_', '_']\n"
     ]
    }
   ],
   "source": [
    "tokens=list(tokenize(Text))\n",
    "tokens_without_sw = [word for word in tokens if not word in all_stopwords_gensim]\n",
    "print(tokens_without_sw)"
   ]
  },
  {
   "cell_type": "markdown",
   "id": "12c223e9",
   "metadata": {},
   "source": [
    "## Stopwords operations using NLTK "
   ]
  },
  {
   "cell_type": "code",
   "execution_count": 18,
   "id": "ede6a919",
   "metadata": {},
   "outputs": [],
   "source": [
    "import nltk\n",
    "from nltk.corpus import stopwords\n",
    "from nltk.tokenize import word_tokenize"
   ]
  },
  {
   "cell_type": "code",
   "execution_count": null,
   "id": "708c7426",
   "metadata": {},
   "outputs": [],
   "source": [
    "stop_words=set(stopwords.words('english'))\n",
    "print()"
   ]
  }
 ],
 "metadata": {
  "kernelspec": {
   "display_name": "Python 3 (ipykernel)",
   "language": "python",
   "name": "python3"
  },
  "language_info": {
   "codemirror_mode": {
    "name": "ipython",
    "version": 3
   },
   "file_extension": ".py",
   "mimetype": "text/x-python",
   "name": "python",
   "nbconvert_exporter": "python",
   "pygments_lexer": "ipython3",
   "version": "3.10.12"
  }
 },
 "nbformat": 4,
 "nbformat_minor": 5
}
